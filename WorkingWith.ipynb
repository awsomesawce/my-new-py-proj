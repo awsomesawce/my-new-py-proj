{
 "cells": [
  {
   "cell_type": "code",
   "execution_count": 17,
   "id": "6514b8ac-5740-41a4-bf71-1d36156b849c",
   "metadata": {},
   "outputs": [
    {
     "name": "stdout",
     "output_type": "stream",
     "text": [
      "Here are some reasons that python is good: ['Easy to learn', 'Fun', 'Multiple paradigms']\n",
      "\n",
      "And here are some reasons that \n",
      "python may not be the best choice for your computing needs: []\n",
      "\n"
     ]
    }
   ],
   "source": [
    "\"\"\"# Beautiful Code\n",
    "\"\"\"\n",
    "import os, sys\n",
    "from types import SimpleNamespace\n",
    "\n",
    "reasons_python_is_great = [\"Easy to learn\",\n",
    "                          \"Fun\",\n",
    "                          \"Multiple paradigms\"]\n",
    "\n",
    "reasons_python_isnot_great = []\n",
    "\n",
    "reasons = {\n",
    "    'bad': reasons_python_isnot_great,\n",
    "    'good': reasons_python_is_great\n",
    "}\n",
    "\n",
    "print(\"Here are some reasons that python is good: %s\" % reasons['good'])\n",
    "print()\n",
    "print(\"\"\"And here are some reasons that \n",
    "python may not be the best choice for your computing needs: %s\n",
    "\"\"\" % reasons['bad'].)\n"
   ]
  },
  {
   "cell_type": "code",
   "execution_count": null,
   "id": "e6836089-880c-4b1e-97d3-cc0f5b65243b",
   "metadata": {},
   "outputs": [],
   "source": []
  }
 ],
 "metadata": {
  "kernelspec": {
   "display_name": "Python 3 (ipykernel)",
   "language": "python",
   "name": "python3"
  },
  "language_info": {
   "codemirror_mode": {
    "name": "ipython",
    "version": 3
   },
   "file_extension": ".py",
   "mimetype": "text/x-python",
   "name": "python",
   "nbconvert_exporter": "python",
   "pygments_lexer": "ipython3",
   "version": "3.8.10"
  }
 },
 "nbformat": 4,
 "nbformat_minor": 5
}
