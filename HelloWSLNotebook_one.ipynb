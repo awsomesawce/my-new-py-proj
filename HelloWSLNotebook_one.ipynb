{
 "cells": [
  {
   "cell_type": "markdown",
   "id": "ef62e431",
   "metadata": {},
   "source": [
    "# Jupyter Awesomeness\n",
    "\n",
    "This jupyter notebook is being run from my Windows Subsystem for Linux instance, but I am using Windows to interact\n",
    "with the nb in the browser!\n",
    "\n",
    "## Venv stuff\n",
    "\n",
    "There are many many tooling solutions for working with Virtual Envs.  Too many in my opinion.\n"
   ]
  },
  {
   "cell_type": "code",
   "execution_count": 7,
   "id": "0985da83",
   "metadata": {},
   "outputs": [],
   "source": [
    "\"\"\"Hello Jupyter Notebook!\n",
    "From Windows Subsystem for Linux!\"\"\"\n",
    "\n",
    "# This is somewhat of a test to see whether it is easier to just code inside a jupyter notebook in the browser.\n",
    "\n",
    "import os, sys, inspect\n",
    "import pathlib\n",
    "\n",
    "def getTextIntoFile(s: str, f: str) -> None:\n",
    "    \"\"\"Attempt to get a string into a file\"\"\"\n",
    "    if os.path.exists(f): raise OSError('File already exists')\n",
    "    with open(f, 'w', encoding='utf8') as file:\n",
    "        if file.writable():\n",
    "            return file.write(s)\n",
    "        return file.close()\n",
    "\n",
    "\n",
    "#getTextIntoFile(\"This is a test\", 'myfile.txt')\n",
    "\n",
    "def getTextOut(filename: str):\n",
    "    if os.path.exists(filename):\n",
    "        with open(filename) as f:\n",
    "            return f.read()\n",
    "\n"
   ]
  },
  {
   "cell_type": "code",
   "execution_count": null,
   "id": "ca1efa24",
   "metadata": {},
   "outputs": [],
   "source": []
  }
 ],
 "metadata": {
  "kernelspec": {
   "display_name": "Python 3 (ipykernel)",
   "language": "python",
   "name": "python3"
  },
  "language_info": {
   "codemirror_mode": {
    "name": "ipython",
    "version": 3
   },
   "file_extension": ".py",
   "mimetype": "text/x-python",
   "name": "python",
   "nbconvert_exporter": "python",
   "pygments_lexer": "ipython3",
   "version": "3.8.10"
  },
  "widgets": {
   "application/vnd.jupyter.widget-state+json": {
    "state": {},
    "version_major": 2,
    "version_minor": 0
   }
  }
 },
 "nbformat": 4,
 "nbformat_minor": 5
}
