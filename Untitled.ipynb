{
 "cells": [
  {
   "cell_type": "code",
   "execution_count": null,
   "id": "43b320a1",
   "metadata": {},
   "outputs": [],
   "source": [
    "echo \"Hi there from Xonsh\""
   ]
  },
  {
   "cell_type": "code",
   "execution_count": null,
   "id": "9d2ba8ea",
   "metadata": {},
   "outputs": [],
   "source": []
  }
 ],
 "metadata": {
  "kernelspec": {
   "display_name": "Xonsh",
   "language": "xonsh",
   "name": "xonsh"
  }
 },
 "nbformat": 4,
 "nbformat_minor": 5
}
