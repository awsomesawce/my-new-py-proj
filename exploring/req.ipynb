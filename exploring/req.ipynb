{
 "cells": [
  {
   "cell_type": "code",
   "execution_count": 10,
   "id": "7c881483-42b6-40ef-b4d2-312ed6c14788",
   "metadata": {},
   "outputs": [],
   "source": [
    "import requests as req\n",
    "import os\n",
    "\n",
    "myreqdoc = req.get.__doc__\n",
    "myreqdoc2 = req.request.__doc__\n",
    "\n",
    "justget = req.get('https://httpbin.org/')"
   ]
  },
  {
   "cell_type": "code",
   "execution_count": 12,
   "id": "52c17d42-b969-425c-8570-d2d9571060d7",
   "metadata": {},
   "outputs": [
    {
     "name": "stdout",
     "output_type": "stream",
     "text": [
      "<Response [200]>\n"
     ]
    }
   ],
   "source": [
    "myreq1\n",
    "myreq2\n",
    "\n",
    "print(justget)"
   ]
  },
  {
   "cell_type": "code",
   "execution_count": null,
   "id": "8fc42c98-a8dc-4e69-a8c0-2c008d647a46",
   "metadata": {},
   "outputs": [],
   "source": []
  }
 ],
 "metadata": {
  "kernelspec": {
   "display_name": "Python 3 (ipykernel)",
   "language": "python",
   "name": "python3"
  },
  "language_info": {
   "codemirror_mode": {
    "name": "ipython",
    "version": 3
   },
   "file_extension": ".py",
   "mimetype": "text/x-python",
   "name": "python",
   "nbconvert_exporter": "python",
   "pygments_lexer": "ipython3",
   "version": "3.8.10"
  }
 },
 "nbformat": 4,
 "nbformat_minor": 5
}
