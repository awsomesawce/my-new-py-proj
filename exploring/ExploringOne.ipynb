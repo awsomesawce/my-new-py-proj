{
 "cells": [
  {
   "cell_type": "code",
   "execution_count": 3,
   "id": "2f68a635-6fe0-4ee8-a5a5-8f6fbbbb3c1a",
   "metadata": {},
   "outputs": [
    {
     "name": "stdout",
     "output_type": "stream",
     "text": [
      "Certain python modules from stdlib and beyond are able to be called\n",
      "from the command-line shell of \n",
      "\n"
     ]
    }
   ],
   "source": [
    "\"\"\"Python Configuration\n",
    "\n",
    "Configuration options for Python are plentyful.\n",
    "There are many different environment managers and toolings.\n",
    "\n",
    "Here we will be using just the standard `pip` for now..\"\"\"\n",
    "\n",
    "import os, sys, site, sysconfig, platform # All stdlib\n",
    "import platformdirs # All from pypa\n",
    "\n",
    "print(\"\"\"Certain python modules from stdlib and beyond are able to be called\n",
    "from the command-line shell of \n",
    "\"\"\")"
   ]
  },
  {
   "cell_type": "markdown",
   "id": "926277d5-bab5-4d9c-9e49-0553a02421f1",
   "metadata": {},
   "source": [
    "dir(sysconfig)"
   ]
  },
  {
   "cell_type": "markdown",
   "id": "4de5e65a-de20-405e-a1d0-9190ee2509f4",
   "metadata": {},
   "source": [
    "# Module Locations\n",
    "\n",
    "If I find a nice library to use in a project, I'll install it, then forget which _virtualenv_ i've installed it in (and with), and also forget which _tool_ i've used to interact with said _virtualenv_.\n",
    "\n",
    "This is futile if I keep using different tools to do the whole _virtualenv_ song-and-dance.\n",
    "\n",
    "## Which venv tool to use\n",
    "\n",
    "There are a few options for this."
   ]
  },
  {
   "cell_type": "code",
   "execution_count": 15,
   "id": "b1f6dec2-7140-4ca6-85f9-afa7272408d7",
   "metadata": {},
   "outputs": [
    {
     "data": {
      "text/plain": [
       "'/usr/lib/python3.8/sitecustomize.py'"
      ]
     },
     "execution_count": 15,
     "metadata": {},
     "output_type": "execute_result"
    }
   ],
   "source": [
    "\"\"\"Trying to figure out venv and site\"\"\"\n",
    "\n",
    "import sys, os, inspect, venv, site, sitecustomize\n",
    "import sysconfig, platform\n",
    "import inspect\n",
    "import json\n",
    "from pprint import pprint\n",
    "\n",
    "# First, I'll get a list of site/dist-packages`.\n",
    "\n",
    "mypath = sys.path\n",
    "mymodules = sys.modules\n",
    "\n",
    "mysysconfpaths = sysconfig.get_paths()\n",
    "sysconfvars = sysconfig.get_config_vars()\n",
    "\n",
    "# This dunder dict includes both sysconfpaths and sysconfvars\n",
    "__allsys__ = {\n",
    "    'sysconfpaths': mysysconfpaths,\n",
    "    'sysconfvars': sysconfvars\n",
    "}\n",
    "\n",
    "def outJson(filename='output.json'):\n",
    "    with open(filename, 'a') as f:\n",
    "        mydump = json.dumps(__allsys__)\n",
    "        f.write(mydump)\n",
    "\n",
    "# Output the info into the json file\n",
    "#outJson()\n",
    "inspect.getsourcefile(sitecustomize)\n",
    "\n",
    "#pprint(__allsys__)"
   ]
  },
  {
   "cell_type": "code",
   "execution_count": 21,
   "id": "ed49e62d-785c-4eb3-932a-8101506efbfc",
   "metadata": {},
   "outputs": [
    {
     "data": {
      "text/plain": [
       "'Common base class for all exceptions'"
      ]
     },
     "execution_count": 21,
     "metadata": {},
     "output_type": "execute_result"
    }
   ],
   "source": [
    "inspect.getdoc(BaseException)\n"
   ]
  },
  {
   "cell_type": "code",
   "execution_count": null,
   "id": "aec7d4de-6d71-4f57-b56c-b153579f202f",
   "metadata": {},
   "outputs": [],
   "source": []
  }
 ],
 "metadata": {
  "kernelspec": {
   "display_name": "Python 3 (ipykernel)",
   "language": "python",
   "name": "python3"
  },
  "language_info": {
   "codemirror_mode": {
    "name": "ipython",
    "version": 3
   },
   "file_extension": ".py",
   "mimetype": "text/x-python",
   "name": "python",
   "nbconvert_exporter": "python",
   "pygments_lexer": "ipython3",
   "version": "3.8.10"
  }
 },
 "nbformat": 4,
 "nbformat_minor": 5
}
