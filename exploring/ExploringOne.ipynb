{
 "cells": [
  {
   "cell_type": "code",
   "execution_count": 3,
   "id": "2f68a635-6fe0-4ee8-a5a5-8f6fbbbb3c1a",
   "metadata": {},
   "outputs": [
    {
     "name": "stdout",
     "output_type": "stream",
     "text": [
      "Certain python modules from stdlib and beyond are able to be called\n",
      "from the command-line shell of \n",
      "\n"
     ]
    }
   ],
   "source": [
    "\"\"\"Python Configuration\n",
    "\n",
    "Configuration options for Python are plentyful.\n",
    "There are many different environment managers and toolings.\n",
    "\n",
    "Here we will be using just the standard `pip` for now..\"\"\"\n",
    "\n",
    "import os, sys, site, sysconfig, platform # All stdlib\n",
    "import platformdirs # All from pypa\n",
    "\n",
    "print(\"\"\"Certain python modules from stdlib and beyond are able to be called\n",
    "from the command-line shell of \n",
    "\"\"\")"
   ]
  },
  {
   "cell_type": "code",
   "execution_count": 4,
   "id": "c5ddf4e4-d650-4bb9-86c3-a2910bd4d22f",
   "metadata": {},
   "outputs": [
    {
     "data": {
      "text/plain": [
       "['_ALWAYS_STR',\n",
       " '_BASE_EXEC_PREFIX',\n",
       " '_BASE_PREFIX',\n",
       " '_CONFIG_VARS',\n",
       " '_EXEC_PREFIX',\n",
       " '_INSTALL_SCHEMES',\n",
       " '_PREFIX',\n",
       " '_PROJECT_BASE',\n",
       " '_PYTHON_BUILD',\n",
       " '_PY_VERSION',\n",
       " '_PY_VERSION_SHORT',\n",
       " '_PY_VERSION_SHORT_NO_DOT',\n",
       " '_SCHEME_KEYS',\n",
       " '_USER_BASE',\n",
       " '__all__',\n",
       " '__builtins__',\n",
       " '__cached__',\n",
       " '__doc__',\n",
       " '__file__',\n",
       " '__loader__',\n",
       " '__name__',\n",
       " '__package__',\n",
       " '__spec__',\n",
       " '_expand_vars',\n",
       " '_extend_dict',\n",
       " '_generate_posix_vars',\n",
       " '_get_default_scheme',\n",
       " '_get_sysconfigdata_name',\n",
       " '_getuserbase',\n",
       " '_init_non_posix',\n",
       " '_init_posix',\n",
       " '_is_python_source_dir',\n",
       " '_main',\n",
       " '_parse_makefile',\n",
       " '_print_dict',\n",
       " '_safe_realpath',\n",
       " '_subst_vars',\n",
       " '_sys_home',\n",
       " 'get_config_h_filename',\n",
       " 'get_config_var',\n",
       " 'get_config_vars',\n",
       " 'get_makefile_filename',\n",
       " 'get_path',\n",
       " 'get_path_names',\n",
       " 'get_paths',\n",
       " 'get_platform',\n",
       " 'get_python_version',\n",
       " 'get_scheme_names',\n",
       " 'is_python_build',\n",
       " 'os',\n",
       " 'pardir',\n",
       " 'parse_config_h',\n",
       " 'realpath',\n",
       " 'sys']"
      ]
     },
     "execution_count": 4,
     "metadata": {},
     "output_type": "execute_result"
    }
   ],
   "source": [
    "dir(sysconfig)"
   ]
  },
  {
   "cell_type": "code",
   "execution_count": null,
   "id": "d946e1d7-4f4c-4ab4-bce8-018ed3e5f522",
   "metadata": {},
   "outputs": [],
   "source": [
    "import os, sys, pa                                                                                                                             jq                                                                                               q"
   ]
  }
 ],
 "metadata": {
  "kernelspec": {
   "display_name": "Python 3 (ipykernel)",
   "language": "python",
   "name": "python3"
  },
  "language_info": {
   "codemirror_mode": {
    "name": "ipython",
    "version": 3
   },
   "file_extension": ".py",
   "mimetype": "text/x-python",
   "name": "python",
   "nbconvert_exporter": "python",
   "pygments_lexer": "ipython3",
   "version": "3.8.10"
  }
 },
 "nbformat": 4,
 "nbformat_minor": 5
}
